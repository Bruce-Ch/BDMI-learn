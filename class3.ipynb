{
 "cells": [
  {
   "cell_type": "code",
   "execution_count": 22,
   "metadata": {},
   "outputs": [],
   "source": [
    "def append_classmate(filename: str):\n",
    "    name = input('请输入同学的姓名')\n",
    "    department = input('请输入同学的院系')\n",
    "    with open(filename, 'a+') as f:\n",
    "        f.write(name + ' ' + department + '\\n')"
   ]
  },
  {
   "cell_type": "code",
   "execution_count": 11,
   "metadata": {},
   "outputs": [],
   "source": [
    "import random\n",
    "\n",
    "def make_data(filename:str):\n",
    "    with open(filename, 'w+') as fout:\n",
    "        for _ in range(20):\n",
    "            fout.write(str(random.randint(1, 100)) + ' ')"
   ]
  },
  {
   "cell_type": "code",
   "execution_count": 15,
   "metadata": {},
   "outputs": [],
   "source": [
    "def clear_file(filename: str):\n",
    "    f = open(filename, 'w+')\n",
    "    f.write('')\n",
    "    f.close()"
   ]
  },
  {
   "cell_type": "code",
   "execution_count": null,
   "metadata": {},
   "outputs": [],
   "source": [
    "file_name = 'myclassmates.txt'\n",
    "append_classmate(file_name)"
   ]
  },
  {
   "cell_type": "code",
   "execution_count": 23,
   "metadata": {},
   "outputs": [],
   "source": [
    "clear_file(file_name)"
   ]
  },
  {
   "cell_type": "code",
   "execution_count": 19,
   "metadata": {},
   "outputs": [],
   "source": [
    "file_data = 'data.txt'\n",
    "make_data(file_data)"
   ]
  },
  {
   "cell_type": "code",
   "execution_count": 2,
   "metadata": {},
   "outputs": [],
   "source": [
    "import tkinter"
   ]
  },
  {
   "cell_type": "code",
   "execution_count": 3,
   "metadata": {},
   "outputs": [],
   "source": [
    "def add_ab():\n",
    "    item = input_box.get()\n",
    "    a, b = [int(x) for x in item.split(' ')]\n",
    "    msg = tkinter.Label(window, text=str(a + b))\n",
    "    msg.place(x=30,y=80)\n",
    "    button['bg']='blue'\n",
    "    button['fg']='white'\n",
    "    input_box.delete(0,tkinter.END)\n",
    "    input_box.focus()\n",
    "\n",
    "window = tkinter.Tk()\n",
    "window.title('a+b')\n",
    "window.geometry('450x350')\n",
    "\n",
    "input_box = tkinter.Entry(text=0)\n",
    "input_box.place(x=120,y=20,width=100,height=30)\n",
    "input_box.focus()\n",
    "\n",
    "button = tkinter.Button(text=\"Add\", command=add_ab)\n",
    "button.place(x=30,y=50,width=100,height=30)\n",
    "\n",
    "window.mainloop()"
   ]
  },
  {
   "cell_type": "code",
   "execution_count": 12,
   "metadata": {},
   "outputs": [],
   "source": [
    "def merge(left: list, right: list):\n",
    "    ret = []\n",
    "    l = r = 0\n",
    "    while l < len(left) and r < len(right):\n",
    "        if left[l] < right[r]:\n",
    "            ret.append(left[l])\n",
    "            l += 1\n",
    "        else:\n",
    "            ret.append(right[r])\n",
    "            r += 1\n",
    "    ret += left[l:]\n",
    "    ret += right[r:]\n",
    "    return ret"
   ]
  },
  {
   "cell_type": "code",
   "execution_count": 20,
   "metadata": {},
   "outputs": [],
   "source": [
    "def mergesort(array: list):\n",
    "    if(len(array) < 2):\n",
    "        return array\n",
    "    l = array[:len(array) // 2]\n",
    "    r = array[len(array) // 2:]\n",
    "    l = mergesort(l)\n",
    "    r = mergesort(r)\n",
    "    return merge(l, r)"
   ]
  },
  {
   "cell_type": "code",
   "execution_count": 21,
   "metadata": {},
   "outputs": [
    {
     "name": "stdout",
     "output_type": "stream",
     "text": [
      "[69, 36, 92, 68, 92, 42, 74, 20, 62, 48]\n",
      "[27, 2, 22, 57, 45, 40, 62, 12, 89, 56]\n",
      "[20, 36, 42, 48, 62, 68, 69, 74, 92, 92]\n",
      "[2, 12, 22, 27, 40, 45, 56, 57, 62, 89]\n"
     ]
    }
   ],
   "source": [
    "import random\n",
    "a = [random.randint(1, 100) for _ in range(10)]\n",
    "b = [random.randint(1, 100) for _ in range(10)]\n",
    "print(a)\n",
    "print(b)\n",
    "print(mergesort(a))\n",
    "print(mergesort(b))"
   ]
  },
  {
   "cell_type": "code",
   "execution_count": 28,
   "metadata": {},
   "outputs": [
    {
     "name": "stdout",
     "output_type": "stream",
     "text": [
      "[53, 71, 42, 8, 82, 16, 61, 33, 61, 72, 44, 68, 63, 9, 92, 52, 91, 68, 96, 94]\n"
     ]
    }
   ],
   "source": [
    "with open('data.txt', 'r') as fin:\n",
    "    data = fin.read()\n",
    "data_list = [int(x) for x in data.split()]\n",
    "sorted_data = mergesort(data_list)\n",
    "with open('sort_res.txt', 'w+') as fout:\n",
    "    for x in sorted_data:\n",
    "        fout.write(str(x) + ' ')\n",
    "print(data_list)"
   ]
  },
  {
   "cell_type": "code",
   "execution_count": null,
   "metadata": {},
   "outputs": [],
   "source": []
  }
 ],
 "metadata": {
  "kernelspec": {
   "display_name": "Python (bdmi)",
   "language": "python",
   "name": "bdmi"
  },
  "language_info": {
   "codemirror_mode": {
    "name": "ipython",
    "version": 3
   },
   "file_extension": ".py",
   "mimetype": "text/x-python",
   "name": "python",
   "nbconvert_exporter": "python",
   "pygments_lexer": "ipython3",
   "version": "3.7.6"
  }
 },
 "nbformat": 4,
 "nbformat_minor": 4
}
