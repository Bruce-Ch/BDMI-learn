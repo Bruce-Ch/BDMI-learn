{
 "cells": [
  {
   "cell_type": "markdown",
   "metadata": {},
   "source": [
    "# 第六周\n",
    "\n",
    "## Numpy"
   ]
  },
  {
   "cell_type": "code",
   "execution_count": 1,
   "metadata": {},
   "outputs": [],
   "source": [
    "import numpy as np"
   ]
  },
  {
   "cell_type": "code",
   "execution_count": 4,
   "metadata": {},
   "outputs": [
    {
     "name": "stdout",
     "output_type": "stream",
     "text": [
      "[[1 2 3]\n",
      " [4 5 6]]\n",
      "[[1 2 3]\n",
      " [4 5 6]]\n",
      "[['a' 'b']\n",
      " ['c' 'd']]\n",
      "[[1 2 3]\n",
      " [4 5 6]\n",
      " [7 8 9]]\n",
      "[[1.+0.j 2.+0.j 3.+0.j]\n",
      " [4.+0.j 5.+0.j 6.+0.j]]\n"
     ]
    }
   ],
   "source": [
    "c = np.array([[1, 2, 3], [4, 5, 6]])\n",
    "d = np.array(((1, 2, 3), (4, 5, 6)))\n",
    "g = np.array([['a', 'b'], ['c', 'd']])\n",
    "e = np.array([(1, 2, 3), [4, 5, 6], (7, 8, 9)])\n",
    "f = np.array([[1, 2, 3], [4, 5, 6]], dtype='complex')\n",
    "print(c)\n",
    "print(d)\n",
    "print(g)\n",
    "print(e)\n",
    "print(f)"
   ]
  },
  {
   "cell_type": "code",
   "execution_count": 6,
   "metadata": {},
   "outputs": [
    {
     "name": "stdout",
     "output_type": "stream",
     "text": [
      "[0 1 2 3]\n",
      "[4 5 6 7]\n",
      "[ 0  5 12 21]\n"
     ]
    }
   ],
   "source": [
    "a = np.arange(4)\n",
    "b = np.arange(4, 8)\n",
    "print(a)\n",
    "print(b)\n",
    "print(a * b)"
   ]
  },
  {
   "cell_type": "code",
   "execution_count": 7,
   "metadata": {},
   "outputs": [
    {
     "name": "stdout",
     "output_type": "stream",
     "text": [
      "[[0. 0. 0. 0.]\n",
      " [0. 0. 0. 0.]]\n"
     ]
    }
   ],
   "source": [
    "A = np.zeros((2, 4))\n",
    "print(A)"
   ]
  },
  {
   "cell_type": "code",
   "execution_count": 9,
   "metadata": {},
   "outputs": [
    {
     "name": "stdout",
     "output_type": "stream",
     "text": [
      "[[0. 0. 0. 0.]\n",
      " [0. 0. 0. 0.]]\n"
     ]
    }
   ],
   "source": [
    "A = np.empty((2, 4))\n",
    "print(A)"
   ]
  },
  {
   "cell_type": "code",
   "execution_count": 10,
   "metadata": {},
   "outputs": [
    {
     "name": "stdout",
     "output_type": "stream",
     "text": [
      "[[0 1 2]\n",
      " [3 4 5]\n",
      " [6 7 8]]\n",
      "[[1. 1. 1.]\n",
      " [1. 1. 1.]\n",
      " [1. 1. 1.]]\n",
      "[[0. 1. 2.]\n",
      " [3. 4. 5.]\n",
      " [6. 7. 8.]]\n",
      "[[ 3.  3.  3.]\n",
      " [12. 12. 12.]\n",
      " [21. 21. 21.]]\n"
     ]
    }
   ],
   "source": [
    "A = np.arange(9).reshape((3, 3))\n",
    "B = np.ones((3, 3))\n",
    "print(A)\n",
    "print(B)\n",
    "print(A * B)\n",
    "print(np.dot(A, B))"
   ]
  },
  {
   "cell_type": "code",
   "execution_count": 12,
   "metadata": {},
   "outputs": [
    {
     "name": "stdout",
     "output_type": "stream",
     "text": [
      "[[1 2 3]\n",
      " [4 5 6]\n",
      " [7 8 9]]\n"
     ]
    }
   ],
   "source": [
    "A += 1\n",
    "print(A)"
   ]
  },
  {
   "cell_type": "code",
   "execution_count": 14,
   "metadata": {},
   "outputs": [
    {
     "name": "stdout",
     "output_type": "stream",
     "text": [
      "[1 2 3 4 5 6 7 8 9]\n"
     ]
    }
   ],
   "source": [
    "print(A.ravel())"
   ]
  },
  {
   "cell_type": "code",
   "execution_count": 15,
   "metadata": {},
   "outputs": [],
   "source": [
    "def sigmoid(x):\n",
    "    return 1 / (1 + np.exp(-x))"
   ]
  },
  {
   "cell_type": "code",
   "execution_count": 25,
   "metadata": {},
   "outputs": [],
   "source": [
    "sigmoid = lambda x: 1 / (1 + np.exp(-x))\n",
    "tanh = lambda x: np.sinh(x) / np.cosh(x)\n",
    "relu = lambda x: np.maximum(x, 0)"
   ]
  },
  {
   "cell_type": "code",
   "execution_count": 20,
   "metadata": {},
   "outputs": [
    {
     "name": "stdout",
     "output_type": "stream",
     "text": [
      "0.9999546021312976\n",
      "0.9999999958776928\n"
     ]
    }
   ],
   "source": [
    "print(sigmoid(10))\n",
    "print(tanh(10))\n",
    "print(relu(10))"
   ]
  },
  {
   "cell_type": "code",
   "execution_count": 26,
   "metadata": {},
   "outputs": [
    {
     "name": "stdout",
     "output_type": "stream",
     "text": [
      "[4.53978687e-05 1.23394576e-04 3.35350130e-04 9.11051194e-04\n",
      " 2.47262316e-03 6.69285092e-03 1.79862100e-02 4.74258732e-02\n",
      " 1.19202922e-01 2.68941421e-01 5.00000000e-01 7.31058579e-01\n",
      " 8.80797078e-01 9.52574127e-01 9.82013790e-01 9.93307149e-01\n",
      " 9.97527377e-01 9.99088949e-01 9.99664650e-01 9.99876605e-01]\n",
      "[-1.         -0.99999997 -0.99999977 -0.99999834 -0.99998771 -0.9999092\n",
      " -0.9993293  -0.99505475 -0.96402758 -0.76159416  0.          0.76159416\n",
      "  0.96402758  0.99505475  0.9993293   0.9999092   0.99998771  0.99999834\n",
      "  0.99999977  0.99999997]\n",
      "[0 0 0 0 0 0 0 0 0 0 0 1 2 3 4 5 6 7 8 9]\n"
     ]
    }
   ],
   "source": [
    "print(sigmoid(np.arange(-10, 10)))\n",
    "print(tanh(np.arange(-10, 10)))\n",
    "print(relu(np.arange(-10, 10)))"
   ]
  },
  {
   "cell_type": "code",
   "execution_count": 29,
   "metadata": {},
   "outputs": [],
   "source": [
    "def ReLU_Unit(x, W):\n",
    "    return relu(np.sum(x * W))"
   ]
  },
  {
   "cell_type": "code",
   "execution_count": 39,
   "metadata": {},
   "outputs": [],
   "source": [
    "def Logistic_Unit(x, W, b = 0):\n",
    "    return sigmoid(np.sum(np.array(x) * np.array(W)) + b)"
   ]
  },
  {
   "cell_type": "code",
   "execution_count": 35,
   "metadata": {},
   "outputs": [
    {
     "name": "stdout",
     "output_type": "stream",
     "text": [
      "0.49\n",
      "0.6201064323430902\n"
     ]
    }
   ],
   "source": [
    "x = [1, 0, 1]\n",
    "W = np.array([-0.21, 0.3, 0.7])\n",
    "print(ReLU_Unit(x, W))\n",
    "print(Logistic_Unit(x, W))"
   ]
  },
  {
   "cell_type": "code",
   "execution_count": 61,
   "metadata": {},
   "outputs": [],
   "source": [
    "AND = lambda x, y: int(Logistic_Unit([x, y], [20, 20], -30) + 0.5)\n",
    "OR = lambda x, y: int(Logistic_Unit([x, y], [20, 20], -10) + 0.5)\n",
    "NOT = lambda x: int(Logistic_Unit([x], [-20], 10) + 0.5)\n",
    "NAND = lambda x, y: int(Logistic_Unit([x, y], [-20, -20], 30) + 0.5)\n",
    "XOR = lambda x, y: AND(OR(x, y), NAND(x, y))"
   ]
  },
  {
   "cell_type": "code",
   "execution_count": 62,
   "metadata": {},
   "outputs": [
    {
     "name": "stdout",
     "output_type": "stream",
     "text": [
      "0 1\n",
      "0 1 1 0\n"
     ]
    }
   ],
   "source": [
    "print(OR(0, 0), NAND(0, 0))\n",
    "print(XOR(0, 0), XOR(0, 1), XOR(1, 0), XOR(1, 1))"
   ]
  },
  {
   "cell_type": "code",
   "execution_count": 64,
   "metadata": {},
   "outputs": [],
   "source": [
    "def softmax(x):\n",
    "    a = np.array(x)\n",
    "    b = np.exp(a)\n",
    "    return b / np.sum(b)"
   ]
  },
  {
   "cell_type": "code",
   "execution_count": 68,
   "metadata": {},
   "outputs": [],
   "source": [
    "logit = lambda x: np.log(x / (1 - x))"
   ]
  },
  {
   "cell_type": "code",
   "execution_count": 69,
   "metadata": {},
   "outputs": [
    {
     "name": "stdout",
     "output_type": "stream",
     "text": [
      "2.1972245773362196\n"
     ]
    }
   ],
   "source": [
    "print(logit(0.9))"
   ]
  },
  {
   "cell_type": "code",
   "execution_count": 65,
   "metadata": {},
   "outputs": [
    {
     "name": "stdout",
     "output_type": "stream",
     "text": [
      "[2.12078996e-04 5.76490482e-04 1.56706360e-03 4.25972051e-03\n",
      " 1.15791209e-02 3.14753138e-02 8.55587737e-02 2.32572860e-01\n",
      " 6.32198578e-01]\n"
     ]
    }
   ],
   "source": [
    "x = [1, 2, 3, 4, 5, 6, 7, 8, 9]\n",
    "print(softmax(x))"
   ]
  },
  {
   "cell_type": "code",
   "execution_count": 73,
   "metadata": {},
   "outputs": [],
   "source": [
    "import pandas as pd"
   ]
  },
  {
   "cell_type": "code",
   "execution_count": 77,
   "metadata": {},
   "outputs": [
    {
     "name": "stdout",
     "output_type": "stream",
     "text": [
      "   Q1_性别  Q2_身高（厘米）  Q3_体重 （公斤）  Q4_头发长度（厘米）\n",
      "0      男        190          70            7\n",
      "1      女        160          45           20\n",
      "2      男        179          61            5\n",
      "3      女        173          60           50\n",
      "4      男        175          70           15\n",
      "5      女        162          53           30\n",
      "6      男        170          80            5\n",
      "7      男        168          55            5\n",
      "8      男        175          65            4\n",
      "9      男        175          70            4\n",
      "10     女        158          47           50\n",
      "11     男        180          68            3\n",
      "12     男        180          75            5\n",
      "13     女        160          49           20\n",
      "14     男        167          60           12\n",
      "15     女        160          49           40\n",
      "16     男        175          66           15\n",
      "17     男        188          70           15\n",
      "18     男        171          63           10\n",
      "19     男        175          75           10\n",
      "20     男        172          65            3\n",
      "21     女        160          52           50\n",
      "22     男        181          76           12\n",
      "23     男        175          60           10\n",
      "24     男        172          59            5\n",
      "25     男        173          61            3\n",
      "26     男        170          60            7\n",
      "27     男        180          58            5\n"
     ]
    }
   ],
   "source": [
    "CSV_FILE_PATH = './数据.csv'\n",
    "df = pd.read_csv(CSV_FILE_PATH, encoding='GBK')\n",
    "print(df)\n",
    "    "
   ]
  },
  {
   "cell_type": "code",
   "execution_count": null,
   "metadata": {},
   "outputs": [],
   "source": []
  }
 ],
 "metadata": {
  "kernelspec": {
   "display_name": "bdmi",
   "language": "python",
   "name": "bdmi"
  },
  "language_info": {
   "codemirror_mode": {
    "name": "ipython",
    "version": 3
   },
   "file_extension": ".py",
   "mimetype": "text/x-python",
   "name": "python",
   "nbconvert_exporter": "python",
   "pygments_lexer": "ipython3",
   "version": "3.8.5"
  }
 },
 "nbformat": 4,
 "nbformat_minor": 4
}
