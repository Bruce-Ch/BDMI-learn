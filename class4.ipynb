{
 "cells": [
  {
   "cell_type": "code",
   "execution_count": 2,
   "metadata": {},
   "outputs": [],
   "source": [
    "from random import *\n",
    "def QuickSort(unordered: list):\n",
    "    if len(unordered) <= 1:\n",
    "        return unordered\n",
    "    L = []\n",
    "    R = []\n",
    "    p = choice(range(len(unordered)))\n",
    "    for i in range(len(unordered)):\n",
    "        if i == p:\n",
    "            continue\n",
    "        if unordered[i] < unordered[p]:\n",
    "            L.append(unordered[i])\n",
    "        else:\n",
    "            R.append(unordered[i])\n",
    "    return QuickSort(L) + [unordered[p]] + QuickSort(R) "
   ]
  },
  {
   "cell_type": "code",
   "execution_count": 3,
   "metadata": {},
   "outputs": [
    {
     "name": "stdout",
     "output_type": "stream",
     "text": [
      "[1, 2, 3, 4, 5, 6, 7, 8, 9]\n"
     ]
    }
   ],
   "source": [
    "print(QuickSort([6,4,2,9,3,8,5,1,7]))"
   ]
  },
  {
   "cell_type": "code",
   "execution_count": 5,
   "metadata": {},
   "outputs": [],
   "source": [
    "def bucket_sort(A, min_value, max_value):\n",
    "    buckets = [[] for _ in range(min_value, max_value + 1)]\n",
    "    for x in A:\n",
    "        buckets[x - min_value].append(x)\n",
    "    sorted_arr = []\n",
    "    for bucket in buckets:\n",
    "        sorted_arr += bucket\n",
    "    return sorted_arr"
   ]
  },
  {
   "cell_type": "code",
   "execution_count": 6,
   "metadata": {},
   "outputs": [
    {
     "name": "stdout",
     "output_type": "stream",
     "text": [
      "[0, 1, 2, 3, 4, 5, 6, 7, 8, 9]\n"
     ]
    }
   ],
   "source": [
    "arr = [5,1,2,7,3,9,4,0,6,8]\n",
    "sorted_arr = bucket_sort(arr, 0, 9)\n",
    "print(sorted_arr)"
   ]
  },
  {
   "cell_type": "code",
   "execution_count": 7,
   "metadata": {},
   "outputs": [],
   "source": [
    "def getDigits(x, base):\n",
    "    digits = []\n",
    "    while x > 0:\n",
    "        digits.append( x % base )\n",
    "        x = (x / base).__trunc__()\n",
    "    return digits\n",
    "        \n",
    "\n",
    "class myInt:\n",
    "    def __init__(self,x, base=10, keyDigit=0):\n",
    "        self.digits = getDigits(x, base)\n",
    "        self.keyDigit = keyDigit\n",
    "        self.value = x\n",
    "        \n",
    "    def key(self):\n",
    "        if len(self.digits) > self.keyDigit:\n",
    "            return self.digits[self.keyDigit]\n",
    "        return 0\n",
    "    \n",
    "    def updateKeyDigit(self,p):\n",
    "        self.keyDigit = p\n",
    "        \n",
    "    def getValue(self):\n",
    "        return self.value"
   ]
  },
  {
   "cell_type": "code",
   "execution_count": 10,
   "metadata": {},
   "outputs": [],
   "source": [
    "def bucketSortBase(A, base):\n",
    "    buckets = [[] for _ in range(base)]\n",
    "    for x in A:\n",
    "        buckets[x.key()].append(x)\n",
    "    sorted_arr = []\n",
    "    for bucket in buckets:\n",
    "        sorted_arr += bucket\n",
    "    return sorted_arr\n",
    "\n",
    "def radix_sort(A, n_digits, base):\n",
    "    B = [ myInt(x, base=base) for x in A ]\n",
    "    for j in range(n_digits):\n",
    "        for x in B:\n",
    "            x.updateKeyDigit(j)\n",
    "        B = bucketSortBase(B, base)\n",
    "    B = [x.getValue() for x in B]\n",
    "    return B"
   ]
  },
  {
   "cell_type": "code",
   "execution_count": 11,
   "metadata": {},
   "outputs": [
    {
     "name": "stdout",
     "output_type": "stream",
     "text": [
      "[4, 12, 33, 123, 523]\n"
     ]
    }
   ],
   "source": [
    "arr = [523,123,4,33,12]\n",
    "sorted_arr = radix_sort(arr, 3, 10)\n",
    "print(sorted_arr)"
   ]
  },
  {
   "cell_type": "markdown",
   "metadata": {},
   "source": [
    "## Linked List"
   ]
  },
  {
   "cell_type": "code",
   "execution_count": 24,
   "metadata": {},
   "outputs": [],
   "source": [
    "class Node:\n",
    "    def __init__(self,value,node = 0):\n",
    "        self.value = value\n",
    "        self.next = node"
   ]
  },
  {
   "cell_type": "code",
   "execution_count": 25,
   "metadata": {},
   "outputs": [],
   "source": [
    "class LinkedList:\n",
    "    def __init__(self,value=0, *args):\n",
    "        self.length = 0\n",
    "        # 创建表头head\n",
    "        if value == 0:\n",
    "            self.head = 0\n",
    "        else:\n",
    "            self.head = Node(value)\n",
    "            self.length += 1\n",
    "        # 如果初始化实例时传入多个参数，循环加入链表\n",
    "        p = self.head\n",
    "        for i in [*args]:\n",
    "            node = Node(i)\n",
    "            p.next = node\n",
    "            p = p.next\n",
    "            self.length += 1\n",
    "\n",
    "    def printLinkedList(self):\n",
    "        self.p = self.head\n",
    "        while self.p:\n",
    "            print(self.p.value)\n",
    "            if not self.p.next:\n",
    "                return self.p\n",
    "            self.p = self.p.next\n",
    "            \n",
    "#在此添加代码append,insert\n",
    "    def append(self,value):\n",
    "        new_node=Node(value)\n",
    "        cur=self.head\n",
    "        while cur.next!=0:\n",
    "            cur=cur.next\n",
    "        cur.next=new_node\n",
    "        self.length += 1\n",
    "\n",
    "    def insert(self,value):\n",
    "        new_node = Node(value, self.head)\n",
    "        self.head = new_node\n",
    "        self.length += 1\n",
    "\n",
    "    def insert_anywhere(self,index,value):\n",
    "        if self.head is None or index <= 0:\n",
    "            self.head = Node(value,self.head)\n",
    "        else:\n",
    "            temp = self.head\n",
    "            while index > 1 and temp.next != None:\n",
    "                temp = temp.next\n",
    "                index = index-1\n",
    "            temp.next = Node(value,temp.next)\n",
    "        self.lenth = self.lenth+1\n",
    "        \n",
    "    def searchIndex(self,value):\n",
    "        temp = self.head\n",
    "        index = 0\n",
    "        while temp != None and value != temp.value:\n",
    "            index = index+1\n",
    "            temp = temp.next\n",
    "        return index\n",
    "    \n",
    "    def delete(self,value):\n",
    "        index = self.searchIndex(value)\n",
    "        if index <=0 or self.head.next is None:\n",
    "            removeItem = self.head.value\n",
    "            self.head = self.head.next\n",
    "        else:\n",
    "            temp = self.head\n",
    "            while index>1 and temp.next.next != None:\n",
    "                temp = temp.next\n",
    "                index = index-1\n",
    "            removeItem = temp.next.value\n",
    "            temp.next = temp.next.next\n",
    "        self.length = self.length -1\n"
   ]
  },
  {
   "cell_type": "code",
   "execution_count": 26,
   "metadata": {},
   "outputs": [],
   "source": [
    "l = LinkedList(7,5,3,4,1,2,8)"
   ]
  },
  {
   "cell_type": "code",
   "execution_count": 27,
   "metadata": {},
   "outputs": [
    {
     "name": "stdout",
     "output_type": "stream",
     "text": [
      "7\n",
      "5\n",
      "3\n",
      "4\n",
      "1\n",
      "2\n",
      "8\n"
     ]
    },
    {
     "data": {
      "text/plain": [
       "<__main__.Node at 0x7fb29a32c2b0>"
      ]
     },
     "execution_count": 27,
     "metadata": {},
     "output_type": "execute_result"
    }
   ],
   "source": [
    "l.printLinkedList()"
   ]
  },
  {
   "cell_type": "code",
   "execution_count": 28,
   "metadata": {},
   "outputs": [
    {
     "name": "stdout",
     "output_type": "stream",
     "text": [
      "9\n",
      "7\n",
      "5\n",
      "3\n",
      "4\n",
      "1\n",
      "2\n",
      "8\n"
     ]
    },
    {
     "data": {
      "text/plain": [
       "<__main__.Node at 0x7fb29a32c2b0>"
      ]
     },
     "execution_count": 28,
     "metadata": {},
     "output_type": "execute_result"
    }
   ],
   "source": [
    "l.insert(9)\n",
    "l.printLinkedList()"
   ]
  },
  {
   "cell_type": "code",
   "execution_count": 29,
   "metadata": {},
   "outputs": [
    {
     "name": "stdout",
     "output_type": "stream",
     "text": [
      "9\n",
      "7\n",
      "5\n",
      "3\n",
      "1\n",
      "2\n",
      "8\n"
     ]
    },
    {
     "data": {
      "text/plain": [
       "<__main__.Node at 0x7fb29a32c2b0>"
      ]
     },
     "execution_count": 29,
     "metadata": {},
     "output_type": "execute_result"
    }
   ],
   "source": [
    "l.delete(4)\n",
    "l.printLinkedList()"
   ]
  },
  {
   "cell_type": "code",
   "execution_count": 40,
   "metadata": {},
   "outputs": [],
   "source": [
    "# 节点类\n",
    "class Node:\n",
    "    # 用类成员函数进行节点初始化\n",
    "    def __init__(self, value):\n",
    "        self.value = value\n",
    "        self.lchild = None\n",
    "        self.rchild = None\n",
    "\n",
    "# BST树类\n",
    "class BST:\n",
    "    # 用类成员函数进行BST初始化\n",
    "    def __init__(self, node_list):\n",
    "        self.root = Node(node_list[0])\n",
    "        for value in node_list[1:]:\n",
    "            self.insert(value)\n",
    "    # 搜索拥有某值的节点操作\n",
    "    def search(self, node, parent, value):\n",
    "        if node is None:\n",
    "            return False, node, parent\n",
    "        if node.value == value:\n",
    "            return True, node, parent\n",
    "        # 小的在左孩子，大于等于的在右孩子\n",
    "        if node.value > value:\n",
    "            return self.search(node.lchild, node, value)\n",
    "        else:\n",
    "            return self.search(node.rchild, node, value)\n",
    "\n",
    "    # 插入某值的节点操作\n",
    "    def insert(self, value):\n",
    "        flag, n, p = self.search(self.root, self.root, value)\n",
    "        if not flag:\n",
    "            new_node = Node(value)\n",
    "            if value > p.value:\n",
    "                p.rchild = new_node\n",
    "            else:\n",
    "                p.lchild = new_node\n",
    "\n",
    "    # 删除某值的节点\n",
    "    def delete(self, value):\n",
    "        flag, n, p = self.search(self.root, self.root, value)\n",
    "        if flag is False:\n",
    "            print(\"Can't find the key! Delete failed!\")\n",
    "        else:\n",
    "            #当左子树为空时\n",
    "            if n.lchild is None:\n",
    "                if n == p.lchild:\n",
    "                    p.lchild = n.rchild\n",
    "                else:\n",
    "                    p.rchild = n.rchild\n",
    "                    \n",
    "            #当右子树为空时\n",
    "            elif n.rchild is None:\n",
    "                if n == p.lchild:\n",
    "                    p.lchild = n.lchild\n",
    "                else:\n",
    "                    p.rchild = n.lchild\n",
    "            else:\n",
    "                #当左右都不为空时，选择右子树\n",
    "                pre = n.rchild\n",
    "                if pre.lchild is None:\n",
    "                    #如果左子树为空，直接将右子树上移\n",
    "                    n.value = pre.value\n",
    "                    n.rchild = pre.rchild\n",
    "                else:\n",
    "                    #如果左子树不为空，直接迭代到左子树根节点\n",
    "                    next = pre.lchild\n",
    "                    while next.lchild is not None:\n",
    "                        pre = next\n",
    "                        next = next.lchild\n",
    "                    n.value = next.value\n",
    "                    pre.lchild = next.rchild\n",
    "    # 先序遍历\n",
    "    def pre_order_traverse(self, node):\n",
    "        if node is not None:\n",
    "            print(node.value)\n",
    "            self.pre_order_traverse(node.lchild)\n",
    "            self.pre_order_traverse(node.rchild)\n",
    "\n",
    "    # 中序遍历\n",
    "    def in_order_traverse(self, node):\n",
    "        if node is not None:\n",
    "            self.in_order_traverse(node.lchild)\n",
    "            print(node.value)\n",
    "            self.in_order_traverse(node.rchild)\n",
    "\n",
    "    # 后序遍历\n",
    "    def post_order_traverse(self, node):\n",
    "        if node is not None:\n",
    "            self.post_order_traverse(node.lchild)\n",
    "            self.post_order_traverse(node.rchild)\n",
    "            print(node.value)"
   ]
  },
  {
   "cell_type": "code",
   "execution_count": 41,
   "metadata": {},
   "outputs": [],
   "source": [
    "array = [7,5,3,4,1,2,8]"
   ]
  },
  {
   "cell_type": "code",
   "execution_count": 42,
   "metadata": {},
   "outputs": [],
   "source": [
    "bst = BST(array)"
   ]
  },
  {
   "cell_type": "code",
   "execution_count": 43,
   "metadata": {},
   "outputs": [
    {
     "name": "stdout",
     "output_type": "stream",
     "text": [
      "7\n",
      "5\n",
      "3\n",
      "1\n",
      "2\n",
      "4\n",
      "8\n"
     ]
    }
   ],
   "source": [
    "bst.pre_order_traverse(bst.root)"
   ]
  },
  {
   "cell_type": "code",
   "execution_count": 44,
   "metadata": {},
   "outputs": [
    {
     "name": "stdout",
     "output_type": "stream",
     "text": [
      "1\n",
      "2\n",
      "3\n",
      "4\n",
      "5\n",
      "7\n",
      "8\n"
     ]
    }
   ],
   "source": [
    "bst.in_order_traverse(bst.root)"
   ]
  },
  {
   "cell_type": "code",
   "execution_count": null,
   "metadata": {},
   "outputs": [],
   "source": []
  }
 ],
 "metadata": {
  "kernelspec": {
   "display_name": "bdmi",
   "language": "python",
   "name": "bdmi"
  },
  "language_info": {
   "codemirror_mode": {
    "name": "ipython",
    "version": 3
   },
   "file_extension": ".py",
   "mimetype": "text/x-python",
   "name": "python",
   "nbconvert_exporter": "python",
   "pygments_lexer": "ipython3",
   "version": "3.8.5"
  }
 },
 "nbformat": 4,
 "nbformat_minor": 4
}
