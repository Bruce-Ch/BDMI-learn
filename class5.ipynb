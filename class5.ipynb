{
 "cells": [
  {
   "cell_type": "markdown",
   "metadata": {},
   "source": [
    "## 哈希表"
   ]
  },
  {
   "cell_type": "code",
   "execution_count": 3,
   "metadata": {},
   "outputs": [],
   "source": [
    "class hash(object):\n",
    "    def __init__(self, num_buckets: int):\n",
    "        self.size = num_buckets\n",
    "        self.content = [[] for _ in range(self.size)]\n",
    "    \n",
    "    def hash_func(self, in_num: int):\n",
    "        return (in_num * 7) % 5\n",
    "    \n",
    "    def insert(self, in_num: int):\n",
    "        if in_num not in self.content[self.hash_func(in_num)]:\n",
    "            self.content[self.hash_func(in_num)].append(in_num)\n",
    "        \n",
    "    def delete(self, tar: int):\n",
    "        if tar in self.content[self.hash_func(tar)]:\n",
    "            self.content[self.hash_func(tar)].remove(tar)\n",
    "            \n",
    "    def output(self):\n",
    "        print(self.content)"
   ]
  },
  {
   "cell_type": "code",
   "execution_count": 4,
   "metadata": {},
   "outputs": [
    {
     "name": "stdout",
     "output_type": "stream",
     "text": [
      "[[5], [3, 8], [1], [4], [7, 2]]\n"
     ]
    }
   ],
   "source": [
    "hash_list = hash(5)\n",
    "l = [7, 5, 3, 4, 1, 2, 8]\n",
    "for x in l:\n",
    "    hash_list.insert(x)\n",
    "hash_list.output()"
   ]
  },
  {
   "cell_type": "code",
   "execution_count": 5,
   "metadata": {},
   "outputs": [
    {
     "name": "stdout",
     "output_type": "stream",
     "text": [
      "[[5], [3, 8], [1], [9], [7, 2]]\n"
     ]
    }
   ],
   "source": [
    "hash_list.insert(9)\n",
    "hash_list.delete(4)\n",
    "hash_list.output()"
   ]
  },
  {
   "cell_type": "markdown",
   "metadata": {},
   "source": [
    "## SQL"
   ]
  },
  {
   "cell_type": "code",
   "execution_count": 6,
   "metadata": {},
   "outputs": [],
   "source": [
    "import sqlite3"
   ]
  },
  {
   "cell_type": "code",
   "execution_count": 21,
   "metadata": {},
   "outputs": [],
   "source": [
    "db = sqlite3.connect(\"university.db\")\n",
    "cursor = db.cursor()"
   ]
  },
  {
   "cell_type": "code",
   "execution_count": 9,
   "metadata": {},
   "outputs": [
    {
     "data": {
      "text/plain": [
       "<sqlite3.Cursor at 0x7fa9e60e7500>"
      ]
     },
     "execution_count": 9,
     "metadata": {},
     "output_type": "execute_result"
    }
   ],
   "source": [
    "cursor.execute(\"\"\"create table if not exists students(\n",
    "id integer primary key,\n",
    "name text not null,\n",
    "class text not null,\n",
    "grade integer);\n",
    "\"\"\")"
   ]
  },
  {
   "cell_type": "code",
   "execution_count": 10,
   "metadata": {},
   "outputs": [
    {
     "data": {
      "text/plain": [
       "<sqlite3.Cursor at 0x7fa9e60e7500>"
      ]
     },
     "execution_count": 10,
     "metadata": {},
     "output_type": "execute_result"
    }
   ],
   "source": [
    "cursor.execute(\"\"\"insert into students(id, name, class, grade) values(1, \"Mary\", \"Python\", 67);\"\"\")\n",
    "cursor.execute(\"\"\"insert into students(id, name, class, grade) values(?, ?, ?, ?);\"\"\", (2, \"Bob\", \"C++\", 59))"
   ]
  },
  {
   "cell_type": "code",
   "execution_count": 11,
   "metadata": {},
   "outputs": [],
   "source": [
    "cursor.execute(\"\"\"insert into students(id, name, class, grade) values(3, \"Hb\", \"BDMI\", 100);\"\"\")\n",
    "db.commit()"
   ]
  },
  {
   "cell_type": "code",
   "execution_count": 13,
   "metadata": {},
   "outputs": [
    {
     "data": {
      "text/plain": [
       "[(1, 'Mary', 'Python', 67), (2, 'Bob', 'C++', 59), (3, 'Hb', 'BDMI', 100)]"
      ]
     },
     "execution_count": 13,
     "metadata": {},
     "output_type": "execute_result"
    }
   ],
   "source": [
    "cursor.execute(\"select * from students\")\n",
    "cursor.fetchall()"
   ]
  },
  {
   "cell_type": "code",
   "execution_count": 25,
   "metadata": {},
   "outputs": [],
   "source": [
    "db.close()"
   ]
  },
  {
   "cell_type": "code",
   "execution_count": 16,
   "metadata": {},
   "outputs": [
    {
     "data": {
      "text/plain": [
       "<sqlite3.Cursor at 0x7fa9e57f77a0>"
      ]
     },
     "execution_count": 16,
     "metadata": {},
     "output_type": "execute_result"
    }
   ],
   "source": [
    "cursor.execute(\"\"\"create table if not exists classes(\n",
    "id integer primary key,\n",
    "name text not null,\n",
    "teacher text not null);\n",
    "\"\"\")"
   ]
  },
  {
   "cell_type": "code",
   "execution_count": 17,
   "metadata": {},
   "outputs": [],
   "source": [
    "cursor.execute(\"\"\"insert into classes(id, name, teacher) values(1, \"BDMI\", \"CZ\");\"\"\")\n",
    "cursor.execute(\"\"\"insert into classes(id, name, teacher) values(2, \"Python\", \"HB\");\"\"\")\n",
    "cursor.execute(\"\"\"insert into classes(id, name, teacher) values(3, \"Go\", \"KJ\");\"\"\")\n",
    "db.commit()"
   ]
  },
  {
   "cell_type": "code",
   "execution_count": 18,
   "metadata": {},
   "outputs": [
    {
     "name": "stdout",
     "output_type": "stream",
     "text": [
      "[(1, 'Mary', 'Python', 67), (2, 'Bob', 'C++', 59), (3, 'Hb', 'BDMI', 100)]\n",
      "[(1, 'BDMI', 'CZ'), (2, 'Python', 'HB'), (3, 'Go', 'KJ')]\n"
     ]
    }
   ],
   "source": [
    "cursor.execute(\"select * from students\")\n",
    "print(cursor.fetchall())\n",
    "cursor.execute(\"select * from classes\")\n",
    "print(cursor.fetchall())"
   ]
  },
  {
   "cell_type": "code",
   "execution_count": 19,
   "metadata": {},
   "outputs": [
    {
     "data": {
      "text/plain": [
       "<sqlite3.Cursor at 0x7fa9e57f77a0>"
      ]
     },
     "execution_count": 19,
     "metadata": {},
     "output_type": "execute_result"
    }
   ],
   "source": [
    "cursor.execute(\"\"\"create table if not exists enrolled(\n",
    "sid integer not null,\n",
    "cid integer not null,\n",
    "score integer not null);\n",
    "\"\"\")"
   ]
  },
  {
   "cell_type": "code",
   "execution_count": 23,
   "metadata": {},
   "outputs": [],
   "source": [
    "cursor.execute(\"\"\"insert into enrolled(sid, cid, score) values(1, 2, 5);\"\"\")\n",
    "cursor.execute(\"\"\"insert into enrolled(sid, cid, score) values(2, 1, 90);\"\"\")\n",
    "cursor.execute(\"\"\"insert into enrolled(sid, cid, score) values(1, 3, 69);\"\"\")\n",
    "db.commit()"
   ]
  },
  {
   "cell_type": "code",
   "execution_count": 24,
   "metadata": {},
   "outputs": [
    {
     "name": "stdout",
     "output_type": "stream",
     "text": [
      "[('Mary', 'Python'), ('Bob', 'BDMI'), ('Mary', 'Go')]\n"
     ]
    }
   ],
   "source": [
    "cursor.execute(\"\"\"select s.name, c.name from students as s, classes as c, enrolled as e where s.id = e.sid and c.id = e.cid\"\"\")\n",
    "print(cursor.fetchall())"
   ]
  },
  {
   "cell_type": "code",
   "execution_count": null,
   "metadata": {},
   "outputs": [],
   "source": []
  }
 ],
 "metadata": {
  "kernelspec": {
   "display_name": "bdmi",
   "language": "python",
   "name": "bdmi"
  },
  "language_info": {
   "codemirror_mode": {
    "name": "ipython",
    "version": 3
   },
   "file_extension": ".py",
   "mimetype": "text/x-python",
   "name": "python",
   "nbconvert_exporter": "python",
   "pygments_lexer": "ipython3",
   "version": "3.8.5"
  }
 },
 "nbformat": 4,
 "nbformat_minor": 4
}
