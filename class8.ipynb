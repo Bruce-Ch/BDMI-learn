{
 "cells": [
  {
   "cell_type": "code",
   "execution_count": 20,
   "metadata": {},
   "outputs": [],
   "source": [
    "import pandas as pd\n",
    "import numpy as np"
   ]
  },
  {
   "cell_type": "code",
   "execution_count": 14,
   "metadata": {},
   "outputs": [],
   "source": [
    "stu_info = pd.DataFrame({'Bruce': pd.Series(['2019000000', 'male'], index=('id', 'gender')),\n",
    "                         'John': pd.Series(['2019111111', 'male'], index=('id', 'gender'))}).T"
   ]
  },
  {
   "cell_type": "code",
   "execution_count": 16,
   "metadata": {},
   "outputs": [
    {
     "name": "stdout",
     "output_type": "stream",
     "text": [
      "               id gender\n",
      "Bruce  2019000000   male\n",
      "John   2019111111   male\n",
      "\n",
      "id        2019000000\n",
      "gender          male\n",
      "Name: Bruce, dtype: object\n"
     ]
    }
   ],
   "source": [
    "print(stu_info)\n",
    "print()\n",
    "print(stu_info.loc['Bruce'])"
   ]
  },
  {
   "cell_type": "code",
   "execution_count": 17,
   "metadata": {},
   "outputs": [
    {
     "name": "stdout",
     "output_type": "stream",
     "text": [
      "   Q1_性别  Q2_身高（厘米）  Q3_体重 （公斤）  Q4_头发长度（厘米）\n",
      "0      男        190          70            7\n",
      "1      女        160          45           20\n",
      "2      男        179          61            5\n",
      "3      女        173          60           50\n",
      "4      男        175          70           15\n",
      "5      女        162          53           30\n",
      "6      男        170          80            5\n",
      "7      男        168          55            5\n",
      "8      男        175          65            4\n",
      "9      男        175          70            4\n",
      "10     女        158          47           50\n",
      "11     男        180          68            3\n",
      "12     男        180          75            5\n",
      "13     女        160          49           20\n",
      "14     男        167          60           12\n",
      "15     女        160          49           40\n",
      "16     男        175          66           15\n",
      "17     男        188          70           15\n",
      "18     男        171          63           10\n",
      "19     男        175          75           10\n",
      "20     男        172          65            3\n",
      "21     女        160          52           50\n",
      "22     男        181          76           12\n",
      "23     男        175          60           10\n",
      "24     男        172          59            5\n",
      "25     男        173          61            3\n",
      "26     男        170          60            7\n",
      "27     男        180          58            5\n"
     ]
    }
   ],
   "source": [
    "CSV_FILE_PATH = './数据.csv'\n",
    "df = pd.read_csv(CSV_FILE_PATH, encoding='GBK')\n",
    "print(df)"
   ]
  },
  {
   "cell_type": "code",
   "execution_count": 18,
   "metadata": {},
   "outputs": [],
   "source": [
    "MSE = lambda x, y: np.sqrt(np.square(np.array(x) - np.array(y)).sum())"
   ]
  },
  {
   "cell_type": "code",
   "execution_count": 21,
   "metadata": {},
   "outputs": [
    {
     "name": "stdout",
     "output_type": "stream",
     "text": [
      "1.4142135623730951\n"
     ]
    }
   ],
   "source": [
    "x = [1, 2, 3]\n",
    "y = [2, 2, 2]\n",
    "print(MSE(x, y))"
   ]
  },
  {
   "cell_type": "code",
   "execution_count": 25,
   "metadata": {},
   "outputs": [],
   "source": [
    "CE = lambda pre, real: -(np.log(np.array(pre)) * np.array(real)).sum()"
   ]
  },
  {
   "cell_type": "code",
   "execution_count": 26,
   "metadata": {},
   "outputs": [
    {
     "name": "stdout",
     "output_type": "stream",
     "text": [
      "0.10536051565782628\n"
     ]
    }
   ],
   "source": [
    "x = [1, 0]\n",
    "y = [0.9, 0.1]\n",
    "print(CE(y, x))"
   ]
  },
  {
   "cell_type": "code",
   "execution_count": 27,
   "metadata": {},
   "outputs": [
    {
     "name": "stdout",
     "output_type": "stream",
     "text": [
      "0.2231435513142097\n"
     ]
    }
   ],
   "source": [
    "x = [0, 1]\n",
    "y = [0.2, 0.8]\n",
    "print(CE(y, x))"
   ]
  },
  {
   "cell_type": "code",
   "execution_count": null,
   "metadata": {},
   "outputs": [],
   "source": []
  }
 ],
 "metadata": {
  "kernelspec": {
   "display_name": "bdmi",
   "language": "python",
   "name": "bdmi"
  },
  "language_info": {
   "codemirror_mode": {
    "name": "ipython",
    "version": 3
   },
   "file_extension": ".py",
   "mimetype": "text/x-python",
   "name": "python",
   "nbconvert_exporter": "python",
   "pygments_lexer": "ipython3",
   "version": "3.8.5"
  }
 },
 "nbformat": 4,
 "nbformat_minor": 4
}
