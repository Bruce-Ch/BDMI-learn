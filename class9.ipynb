{
 "cells": [
  {
   "cell_type": "markdown",
   "metadata": {},
   "source": [
    "## Numpy"
   ]
  },
  {
   "cell_type": "code",
   "execution_count": 1,
   "metadata": {},
   "outputs": [],
   "source": [
    "import numpy as np"
   ]
  },
  {
   "cell_type": "code",
   "execution_count": 2,
   "metadata": {},
   "outputs": [
    {
     "name": "stdout",
     "output_type": "stream",
     "text": [
      "[[1 2]\n",
      " [2 3]\n",
      " [5 6]]\n",
      "[[-0.02186377 -1.46034068 -0.7986156  -0.30521405]\n",
      " [-0.97741849  0.01907047 -0.38196877 -0.02294172]]\n"
     ]
    }
   ],
   "source": [
    "a = np.array([[1, 2], [2, 3], [5, 6]])\n",
    "print(a)\n",
    "b = np.random.randn(2, 4)\n",
    "print(b)"
   ]
  },
  {
   "cell_type": "code",
   "execution_count": 4,
   "metadata": {},
   "outputs": [],
   "source": [
    "def nn(X):\n",
    "    X = np.array(X)\n",
    "    W1 = np.random.randn(3, 3)\n",
    "    W2 = np.random.randn(3, 2)\n",
    "    b1 = np.random.randn(3)\n",
    "    b2 = np.random.randn(2)\n",
    "    return W2.T.dot(W1.T.dot(X) + b1) + b2"
   ]
  },
  {
   "cell_type": "code",
   "execution_count": 5,
   "metadata": {},
   "outputs": [
    {
     "name": "stdout",
     "output_type": "stream",
     "text": [
      "[4.33821073 9.88723952]\n"
     ]
    }
   ],
   "source": [
    "X = [1, 2, 3]\n",
    "print(nn(X))"
   ]
  },
  {
   "cell_type": "markdown",
   "metadata": {},
   "source": [
    "## TensorFlow2"
   ]
  },
  {
   "cell_type": "code",
   "execution_count": 2,
   "metadata": {},
   "outputs": [],
   "source": [
    "import tensorflow as tf"
   ]
  },
  {
   "cell_type": "code",
   "execution_count": 3,
   "metadata": {},
   "outputs": [
    {
     "name": "stdout",
     "output_type": "stream",
     "text": [
      "tf.Tensor(4.0, shape=(), dtype=float32)\n",
      "4.0\n"
     ]
    }
   ],
   "source": [
    "a = tf.constant(1.0)\n",
    "b = tf.constant(3.0)\n",
    "c = a + b\n",
    "print(c)\n",
    "print(c.numpy())"
   ]
  },
  {
   "cell_type": "code",
   "execution_count": 4,
   "metadata": {},
   "outputs": [
    {
     "name": "stdout",
     "output_type": "stream",
     "text": [
      "tf.Tensor(4, shape=(), dtype=int32)\n"
     ]
    }
   ],
   "source": [
    "rank_0_tensor = tf.constant(4)\n",
    "print(rank_0_tensor)"
   ]
  },
  {
   "cell_type": "code",
   "execution_count": 6,
   "metadata": {},
   "outputs": [
    {
     "name": "stdout",
     "output_type": "stream",
     "text": [
      "tf.Tensor([2. 3. 4.], shape=(3,), dtype=float32)\n"
     ]
    }
   ],
   "source": [
    "rank_1_tensor = tf.constant([2.0, 3.0, 4.0])\n",
    "print(rank_1_tensor)"
   ]
  },
  {
   "cell_type": "code",
   "execution_count": 8,
   "metadata": {},
   "outputs": [
    {
     "name": "stdout",
     "output_type": "stream",
     "text": [
      "tf.Tensor(\n",
      "[[1. 1. 1. 1.]\n",
      " [1. 1. 1. 1.]\n",
      " [1. 1. 1. 1.]\n",
      " [1. 1. 1. 1.]], shape=(4, 4), dtype=float32)\n"
     ]
    }
   ],
   "source": [
    "tensor_4_4 = tf.ones((4, 4))\n",
    "print(tensor_4_4)"
   ]
  },
  {
   "cell_type": "code",
   "execution_count": 9,
   "metadata": {},
   "outputs": [
    {
     "name": "stdout",
     "output_type": "stream",
     "text": [
      "tf.Tensor(\n",
      "[[[1. 1. 1. 1. 1. 1.]\n",
      "  [1. 1. 1. 1. 1. 1.]\n",
      "  [1. 1. 1. 1. 1. 1.]\n",
      "  [1. 1. 1. 1. 1. 1.]\n",
      "  [1. 1. 1. 1. 1. 1.]]\n",
      "\n",
      " [[1. 1. 1. 1. 1. 1.]\n",
      "  [1. 1. 1. 1. 1. 1.]\n",
      "  [1. 1. 1. 1. 1. 1.]\n",
      "  [1. 1. 1. 1. 1. 1.]\n",
      "  [1. 1. 1. 1. 1. 1.]]\n",
      "\n",
      " [[1. 1. 1. 1. 1. 1.]\n",
      "  [1. 1. 1. 1. 1. 1.]\n",
      "  [1. 1. 1. 1. 1. 1.]\n",
      "  [1. 1. 1. 1. 1. 1.]\n",
      "  [1. 1. 1. 1. 1. 1.]]\n",
      "\n",
      " [[1. 1. 1. 1. 1. 1.]\n",
      "  [1. 1. 1. 1. 1. 1.]\n",
      "  [1. 1. 1. 1. 1. 1.]\n",
      "  [1. 1. 1. 1. 1. 1.]\n",
      "  [1. 1. 1. 1. 1. 1.]]], shape=(4, 5, 6), dtype=float32)\n"
     ]
    }
   ],
   "source": [
    "tensor_4_5_6 = tf.ones((4, 5, 6))\n",
    "print(tensor_4_5_6)"
   ]
  },
  {
   "cell_type": "code",
   "execution_count": 21,
   "metadata": {},
   "outputs": [
    {
     "name": "stdout",
     "output_type": "stream",
     "text": [
      "tf.Tensor(\n",
      "[[1. 2.]\n",
      " [3. 4.]], shape=(2, 2), dtype=float32)\n",
      "tf.Tensor(\n",
      "[[1. 1.]\n",
      " [1. 1.]], shape=(2, 2), dtype=float32)\n",
      "tf.Tensor(\n",
      "[[2. 3.]\n",
      " [4. 5.]], shape=(2, 2), dtype=float32)\n",
      "tf.Tensor(\n",
      "[[1. 2.]\n",
      " [3. 4.]], shape=(2, 2), dtype=float32)\n",
      "tf.Tensor(\n",
      "[[3. 3.]\n",
      " [7. 7.]], shape=(2, 2), dtype=float32)\n",
      "tf.Tensor(\n",
      "[[[ 1.  2.]\n",
      "  [ 3.  4.]]\n",
      "\n",
      " [[ 5.  6.]\n",
      "  [ 7.  8.]]\n",
      "\n",
      " [[ 9. 10.]\n",
      "  [11. 12.]]], shape=(3, 2, 2), dtype=float32)\n",
      "tf.Tensor(\n",
      "[[[0.26894143 0.7310586 ]\n",
      "  [0.26894143 0.7310586 ]]\n",
      "\n",
      " [[0.26894143 0.7310586 ]\n",
      "  [0.26894143 0.7310586 ]]\n",
      "\n",
      " [[0.26894143 0.7310586 ]\n",
      "  [0.26894143 0.7310586 ]]], shape=(3, 2, 2), dtype=float32)\n"
     ]
    }
   ],
   "source": [
    "a = tf.constant([[1.0, 2], [3, 4]])\n",
    "b = tf.ones([2, 2])\n",
    "print(a)\n",
    "print(b)\n",
    "print(a + b)\n",
    "print(a * b)\n",
    "print(a @ b)\n",
    "a = tf.constant([[[1., 2], [3, 4]],\n",
    "                [[5, 6], [7, 8]],\n",
    "                [[9, 10], [11, 12]]])\n",
    "print(a)\n",
    "print(tf.nn.softmax(a))"
   ]
  },
  {
   "cell_type": "code",
   "execution_count": 23,
   "metadata": {},
   "outputs": [
    {
     "data": {
      "text/plain": [
       "<tf.Tensor: shape=(3, 4), dtype=float32, numpy=\n",
       "array([[ 1.,  2.,  3.,  4.],\n",
       "       [ 5.,  6.,  7.,  8.],\n",
       "       [ 9., 10., 11., 12.]], dtype=float32)>"
      ]
     },
     "execution_count": 23,
     "metadata": {},
     "output_type": "execute_result"
    }
   ],
   "source": [
    "tf.reshape(a, (3, 4))"
   ]
  },
  {
   "cell_type": "code",
   "execution_count": 24,
   "metadata": {},
   "outputs": [
    {
     "name": "stdout",
     "output_type": "stream",
     "text": [
      "<tf.Variable 'Variable:0' shape=(3, 2, 2) dtype=float32, numpy=\n",
      "array([[[ 1.,  2.],\n",
      "        [ 3.,  4.]],\n",
      "\n",
      "       [[ 5.,  6.],\n",
      "        [ 7.,  8.]],\n",
      "\n",
      "       [[ 9., 10.],\n",
      "        [11., 12.]]], dtype=float32)>\n"
     ]
    }
   ],
   "source": [
    "b = tf.Variable(a)\n",
    "print(b)"
   ]
  },
  {
   "cell_type": "code",
   "execution_count": 25,
   "metadata": {},
   "outputs": [
    {
     "name": "stdout",
     "output_type": "stream",
     "text": [
      "<bound method BaseResourceVariable.numpy of <tf.Variable 'Variable:0' shape=(3, 2, 2) dtype=float32, numpy=\n",
      "array([[[ 1.,  2.],\n",
      "        [ 3.,  4.]],\n",
      "\n",
      "       [[ 5.,  6.],\n",
      "        [ 7.,  8.]],\n",
      "\n",
      "       [[ 9., 10.],\n",
      "        [11., 12.]]], dtype=float32)>>\n"
     ]
    }
   ],
   "source": [
    "print(b.numpy)"
   ]
  },
  {
   "cell_type": "code",
   "execution_count": 26,
   "metadata": {},
   "outputs": [
    {
     "name": "stdout",
     "output_type": "stream",
     "text": [
      "tf.Tensor(\n",
      "[[ 1.  2.  3.  4.]\n",
      " [ 5.  6.  7.  8.]\n",
      " [ 9. 10. 11. 12.]], shape=(3, 4), dtype=float32)\n"
     ]
    }
   ],
   "source": [
    "print(tf.reshape(b, [3, 4]))"
   ]
  },
  {
   "cell_type": "code",
   "execution_count": 32,
   "metadata": {},
   "outputs": [
    {
     "name": "stdout",
     "output_type": "stream",
     "text": [
      "tf.Tensor(\n",
      "[[ 3.  4.]\n",
      " [ 7.  8.]\n",
      " [11. 12.]], shape=(3, 2), dtype=float32)\n"
     ]
    }
   ],
   "source": [
    "print(tf.reduce_max(b, axis=1))"
   ]
  },
  {
   "cell_type": "code",
   "execution_count": 33,
   "metadata": {},
   "outputs": [],
   "source": [
    "a = tf.Variable([1., 2.])"
   ]
  },
  {
   "cell_type": "code",
   "execution_count": 34,
   "metadata": {},
   "outputs": [
    {
     "name": "stdout",
     "output_type": "stream",
     "text": [
      "<tf.Variable 'Variable:0' shape=(2,) dtype=float32, numpy=array([1., 2.], dtype=float32)>\n"
     ]
    }
   ],
   "source": [
    "print(a)"
   ]
  },
  {
   "cell_type": "code",
   "execution_count": 35,
   "metadata": {},
   "outputs": [
    {
     "data": {
      "text/plain": [
       "<tf.Variable 'UnreadVariable' shape=(2,) dtype=float32, numpy=array([2., 3.], dtype=float32)>"
      ]
     },
     "execution_count": 35,
     "metadata": {},
     "output_type": "execute_result"
    }
   ],
   "source": [
    "a.assign([2, 3])"
   ]
  },
  {
   "cell_type": "code",
   "execution_count": 36,
   "metadata": {},
   "outputs": [
    {
     "name": "stdout",
     "output_type": "stream",
     "text": [
      "tf.Tensor(4.7182817, shape=(), dtype=float32)\n"
     ]
    }
   ],
   "source": [
    "x = tf.constant(1.)\n",
    "with tf.GradientTape() as t:\n",
    "    t.watch(x)\n",
    "    y = x * x + tf.exp(x)\n",
    "    dy_dx = t.gradient(y, x)\n",
    "print(dy_dx)"
   ]
  },
  {
   "cell_type": "code",
   "execution_count": null,
   "metadata": {},
   "outputs": [],
   "source": []
  }
 ],
 "metadata": {
  "kernelspec": {
   "display_name": "bdmi",
   "language": "python",
   "name": "bdmi"
  },
  "language_info": {
   "codemirror_mode": {
    "name": "ipython",
    "version": 3
   },
   "file_extension": ".py",
   "mimetype": "text/x-python",
   "name": "python",
   "nbconvert_exporter": "python",
   "pygments_lexer": "ipython3",
   "version": "3.8.5"
  }
 },
 "nbformat": 4,
 "nbformat_minor": 4
}
